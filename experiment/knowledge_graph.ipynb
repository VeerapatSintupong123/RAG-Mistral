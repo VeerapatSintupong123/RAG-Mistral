{
 "cells": [
  {
   "cell_type": "code",
   "execution_count": 1,
   "metadata": {},
   "outputs": [
    {
     "data": {
      "text/plain": [
       "True"
      ]
     },
     "execution_count": 1,
     "metadata": {},
     "output_type": "execute_result"
    }
   ],
   "source": [
    "import dotenv\n",
    "dotenv.load_dotenv('.env', override=True)"
   ]
  },
  {
   "cell_type": "code",
   "execution_count": 39,
   "metadata": {},
   "outputs": [],
   "source": [
    "import os\n",
    "from neo4j import GraphDatabase\n",
    "\n",
    "driver = GraphDatabase.driver(\n",
    "            os.environ['NEO4J_URI'], \n",
    "            auth=(os.environ['NEO4J_USERNAME'], os.environ['NEO4J_PASSWORD'],))"
   ]
  },
  {
   "cell_type": "code",
   "execution_count": 58,
   "metadata": {},
   "outputs": [],
   "source": [
    "import csv\n",
    "from tqdm import tqdm\n",
    "\n",
    "def load_articles(csv_file, start_idx=0, end_idx=None):\n",
    "    with open(csv_file, 'r', encoding='utf-8') as file:\n",
    "        reader = csv.DictReader(file, delimiter=';')\n",
    "        with driver.session() as session:\n",
    "            for i, row in enumerate(tqdm(reader, desc=\"Loading Articles\", unit=\"article\")):\n",
    "                if i < start_idx:\n",
    "                    continue\n",
    "\n",
    "                if end_idx is not None and i >= end_idx:\n",
    "                    break\n",
    "                \n",
    "                session.write_transaction(create_article, row)\n",
    "\n",
    "def create_article(tx, row):\n",
    "    title = row['title'].strip()\n",
    "    abstract = row['abstract'].strip()\n",
    "    date_publication = row['date_publication']\n",
    "    keywords = row['keywords'].split(',')\n",
    "\n",
    "    # Merge the article node\n",
    "    tx.run(\"\"\"\n",
    "    CREATE (a:Article {name: $title})\n",
    "    SET a.abstract = $abstract, a.date_publication = $date_publication\n",
    "    WITH a\n",
    "    UNWIND $keywords AS keyword\n",
    "    MERGE (b:Keyword {text: keyword})\n",
    "    MERGE (b)<-[:CONTAIN]-(a)\n",
    "    \"\"\", title=title, abstract=abstract, date_publication=date_publication, keywords=keywords)"
   ]
  },
  {
   "cell_type": "code",
   "execution_count": 64,
   "metadata": {},
   "outputs": [
    {
     "name": "stderr",
     "output_type": "stream",
     "text": [
      "Loading Articles: 0article [00:00, ?article/s]C:\\Users\\Lenovo E585 (9-3)\\AppData\\Local\\Temp\\ipykernel_8212\\2343436497.py:15: DeprecationWarning: write_transaction has been renamed to execute_write\n",
      "  session.write_transaction(create_article, row)\n",
      "Loading Articles: 50article [00:06,  8.22article/s]\n"
     ]
    }
   ],
   "source": [
    "load_articles('./data.csv', start_idx=0, end_idx=50)"
   ]
  }
 ],
 "metadata": {
  "kernelspec": {
   "display_name": "chatbot",
   "language": "python",
   "name": "python3"
  },
  "language_info": {
   "codemirror_mode": {
    "name": "ipython",
    "version": 3
   },
   "file_extension": ".py",
   "mimetype": "text/x-python",
   "name": "python",
   "nbconvert_exporter": "python",
   "pygments_lexer": "ipython3",
   "version": "3.10.15"
  }
 },
 "nbformat": 4,
 "nbformat_minor": 2
}
