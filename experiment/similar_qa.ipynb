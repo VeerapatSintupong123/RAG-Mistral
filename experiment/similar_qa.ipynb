{
 "cells": [
  {
   "cell_type": "code",
   "execution_count": 1,
   "metadata": {},
   "outputs": [],
   "source": [
    "import dotenv\n",
    "dotenv.load_dotenv('.env', override=True)\n",
    "\n",
    "import warnings\n",
    "warnings.simplefilter(\"ignore\", category=FutureWarning)"
   ]
  },
  {
   "cell_type": "code",
   "execution_count": 2,
   "metadata": {},
   "outputs": [
    {
     "name": "stderr",
     "output_type": "stream",
     "text": [
      "c:\\Users\\Auto\\anaconda3\\envs\\chatbot\\lib\\site-packages\\tqdm\\auto.py:21: TqdmWarning: IProgress not found. Please update jupyter and ipywidgets. See https://ipywidgets.readthedocs.io/en/stable/user_install.html\n",
      "  from .autonotebook import tqdm as notebook_tqdm\n"
     ]
    }
   ],
   "source": [
    "import os\n",
    "from huggingface_hub import InferenceClient\n",
    "\n",
    "API_TOKEN = os.environ.get(\"HUGGINGFACE_API_TOKEN\")\n",
    "MISTRAL_MODEL_NAME = \"mistralai/Mistral-7B-Instruct-v0.3\"\n",
    "client = InferenceClient(api_key=API_TOKEN)"
   ]
  },
  {
   "cell_type": "code",
   "execution_count": 3,
   "metadata": {},
   "outputs": [],
   "source": [
    "from langchain_community.vectorstores import Neo4jVector\n",
    "from transformers import AutoTokenizer, AutoModel\n",
    "import torch\n",
    "import os\n",
    "\n",
    "class CustomHuggingFaceEmbeddings:\n",
    "    def __init__(self, model_name=\"sentence-transformers/all-MiniLM-L6-v2\"):\n",
    "        self.tokenizer = AutoTokenizer.from_pretrained(model_name)\n",
    "        self.model = AutoModel.from_pretrained(model_name)\n",
    "\n",
    "    def embed_text(self, text):\n",
    "        try:\n",
    "            inputs = self.tokenizer(text, return_tensors=\"pt\", padding=True, truncation=True)\n",
    "        except Exception as e:\n",
    "            print(f\"Error during tokenization: {e}\")\n",
    "            return []\n",
    "        with torch.no_grad():\n",
    "            outputs = self.model(**inputs)\n",
    "        return outputs.last_hidden_state.mean(dim=1).squeeze().tolist()\n",
    "    \n",
    "    def embed_query(self, text):\n",
    "        return self.embed_text(text)\n",
    "    \n",
    "    def embed_documents(self, text):\n",
    "        return self.embed_text(text)\n",
    "\n",
    "vector_index = Neo4jVector.from_existing_graph(\n",
    "    CustomHuggingFaceEmbeddings(),\n",
    "    url=os.environ['NEO4J_URI'],\n",
    "    username=os.environ['NEO4J_USERNAME'],\n",
    "    password=os.environ['NEO4J_PASSWORD'],\n",
    "    index_name='articles',\n",
    "    node_label=\"Article\",\n",
    "    text_node_properties=['name', 'abstract'],\n",
    "    embedding_node_property='embedding',\n",
    ")"
   ]
  },
  {
   "cell_type": "code",
   "execution_count": 4,
   "metadata": {},
   "outputs": [],
   "source": [
    "def query_from_mistral(context: str, user_input: str):\n",
    "    messages = [\n",
    "        {\"role\": \"system\", \"content\": f\"Use the following context to answer the query:\\n{context}\"},\n",
    "        {\"role\": \"user\", \"content\": user_input},\n",
    "    ]\n",
    "    completion = client.chat.completions.create(\n",
    "        model=MISTRAL_MODEL_NAME,\n",
    "        messages=messages,\n",
    "        max_tokens=500,\n",
    "    )\n",
    "    return completion.choices[0].message[\"content\"]"
   ]
  },
  {
   "cell_type": "code",
   "execution_count": 5,
   "metadata": {},
   "outputs": [],
   "source": [
    "from neo4j import GraphDatabase\n",
    "\n",
    "driver = GraphDatabase.driver(\n",
    "            os.environ['NEO4J_URI'], \n",
    "            auth=(os.environ['NEO4J_USERNAME'], os.environ['NEO4J_PASSWORD'],))\n",
    "\n",
    "def query_article_keywords(name):\n",
    "    with driver.session() as session:\n",
    "        query = \"\"\"\n",
    "        MATCH (a:Article)-[:CONTAIN]->(k:Keyword)\n",
    "        WHERE a.name = $name\n",
    "        RETURN k\n",
    "        \"\"\"\n",
    "        result = session.run(query, name=name)\n",
    "        return [record[\"k\"] for record in result]"
   ]
  },
  {
   "cell_type": "code",
   "execution_count": 6,
   "metadata": {},
   "outputs": [],
   "source": [
    "def extract_data(documents):\n",
    "    result = []\n",
    "\n",
    "    for doc in documents:\n",
    "        publication_date = doc.metadata.get('date_publication', \"N/A\")\n",
    "        page_content = doc.page_content.strip().split(\"\\n\")\n",
    "        \n",
    "        title = \"N/A\"\n",
    "        abstract = \"N/A\"\n",
    "\n",
    "        for line in page_content:\n",
    "            if line.lower().startswith(\"name:\"):\n",
    "                title = line[len(\"name:\"):].strip()\n",
    "            elif line.lower().startswith(\"abstract:\"):\n",
    "                abstract = line[len(\"abstract:\"):].strip()\n",
    "\n",
    "        doc_data = {\n",
    "            \"Publication Date\": publication_date,\n",
    "            \"Title\": title,\n",
    "            \"Abstract\": abstract,\n",
    "        }\n",
    "        result.append(doc_data)\n",
    "\n",
    "    return result\n"
   ]
  },
  {
   "cell_type": "code",
   "execution_count": 7,
   "metadata": {},
   "outputs": [
    {
     "name": "stdout",
     "output_type": "stream",
     "text": [
      "\n",
      "name: Identifying molecular targets of Aspiletrein-derived steroidal saponins in lung cancer using network pharmacology and molecular docking-based assessments\n",
      "abstract: © 2023, The Author(s).Lung cancer is one of the leading cancers and causes of cancer-related deaths worldwide. Due to its high prevalence and mortality rate, its clinical management remains a significant challenge. Previously, the in vitro anticancer activity of Aspiletrein A, a steroid and a saponin from Aspidistra letreae, against non-small cell lung cancer (NSCLC) cells was reported. However, the anticancer molecular mechanism of other Aspiletreins from A. letreae remains unknown. Using in silico network pharmacology approaches, the targets of Aspiletreins were predicted using the Swiss Target Prediction database. In addition, key mediators in NSCLC were obtained from the Genetic databases. The compound-target interacting networks were constructed using the STRING database and Cytoscape, uncovering potential targets, including STAT3, VEGFA, HSP90AA1, FGF2, and IL2. Gene Ontology and Kyoto Encyclopedia of Genes and Genomes pathway analysis demonstrated that several pathways were highly relevant to cancer pathogenesis. Additionally, molecular docking and molecular dynamic analyses revealed the interaction between key identified targets and Aspiletreins, including hydrogen bonding and Van der Waals interaction. This study provides potential targets of Aspiletreins in NSCLC, and its approach of integrating network pharmacology, bioinformatics, and molecular docking is a powerful tool for investigating the mechanism of new drug targets on a specific disease.\n"
     ]
    }
   ],
   "source": [
    "query = \"which articles discuss Molecular docking\"\n",
    "similar  = vector_index.similarity_search(query, k=5)\n",
    "print(similar[0].page_content)"
   ]
  },
  {
   "cell_type": "code",
   "execution_count": 8,
   "metadata": {},
   "outputs": [
    {
     "name": "stdout",
     "output_type": "stream",
     "text": [
      "Title: Identifying molecular targets of Aspiletrein-derived steroidal saponins in lung cancer using network pharmacology and molecular docking-based assessments\n",
      "Abstract: © 2023, The Author(s).Lung cancer is one of the leading cancers and causes of cancer-related deaths worldwide. Due to its high prevalence and mortality rate, its clinical management remains a significant challenge. Previously, the in vitro anticancer activity of Aspiletrein A, a steroid and a saponin from Aspidistra letreae, against non-small cell lung cancer (NSCLC) cells was reported. However, the anticancer molecular mechanism of other Aspiletreins from A. letreae remains unknown. Using in silico network pharmacology approaches, the targets of Aspiletreins were predicted using the Swiss Target Prediction database. In addition, key mediators in NSCLC were obtained from the Genetic databases. The compound-target interacting networks were constructed using the STRING database and Cytoscape, uncovering potential targets, including STAT3, VEGFA, HSP90AA1, FGF2, and IL2. Gene Ontology and Kyoto Encyclopedia of Genes and Genomes pathway analysis demonstrated that several pathways were highly relevant to cancer pathogenesis. Additionally, molecular docking and molecular dynamic analyses revealed the interaction between key identified targets and Aspiletreins, including hydrogen bonding and Van der Waals interaction. This study provides potential targets of Aspiletreins in NSCLC, and its approach of integrating network pharmacology, bioinformatics, and molecular docking is a powerful tool for investigating the mechanism of new drug targets on a specific disease.\n",
      "Publication Date: 2023-12-01\n",
      "Keywords: \n",
      "Title: Quinoxalinones as A Novel Inhibitor Scaffold for EGFR (L858R/T790M/C797S) Tyrosine Kinase: Molecular Docking, Biological Evaluations, and Computational Insights\n",
      "Abstract: © 2022 by the authors.Combating acquired drug resistance of EGFR tyrosine kinase (TK) is a great challenge and an urgent necessity in the management of non-small cell lung cancers. The advanced EGFR (L858R/T790M/C797S) triple mutation has been recently reported, and there have been no specific drugs approved for this strain. Therefore, our research aimed to search for effective agents that could impede the function of EGFR (L858R/T790M/C797S) TK by the integration of in silico and in vitro approaches. Our in-house quinoxalinone-containing compounds were screened through molecular docking and their biological activity was then verified by enzyme- and cell-based assay. We found that the four quinoxalinone-containing compounds including CPD4, CPD15, CPD16, and CPD21 were promising to be novel EGFR (L858R/T790M/C797S) TK inhibitors. The IC50 values measured by the enzyme-based assay were 3.04 ± 1.24 nM; 6.50 ± 3.02 nM,10.50 ± 1.10 nM; and 3.81 ± 1.80 nM, respectively, which are at a similar level to a reference drug; osimertinib (8.93 ± 3.01 nM). Besides that, they displayed cytotoxic effects on a lung cancer cell line (H1975) with IC50 values in the range of 3.47 to 79.43 μM. In this proposed study, we found that all screened compounds could interact with M793 at the hinge regions and two mutated residues including M790 and S797; which may be the main reason supporting the inhibitory activity in vitro. The structural dynamics revealed that the screened compounds have sufficient non-native contacts with surrounding amino acids and could be well-buried in the binding site’s cleft. In addition, all predicted physicochemical parameters were favorable to be drug-like based on Lipinski’s rule of five, and no extreme violation of toxicity features was found. Altogether, this study proposes a novel EGFR (L858R/T790M/C797S) TK inhibitor scaffold and provides a detailed understanding of compounds’ recognition and susceptibility at the molecular level.\n",
      "Publication Date: 2022-12-01\n",
      "Keywords: lung cancer,non-small cell lung cancer,EGFR (L858R/T790M/C797S) TK,EGFR tyrosine kinase,in silico drug discovery and development\n",
      "Title: Publisher Correction: Atomistic mechanisms underlying the activation of the G protein-coupled sweet receptor heterodimer by sugar alcohol recognition (Scientific Reports, (2019), 9, 1, (10205), 10.1038/s41598-019-46668-w)\n",
      "Abstract: © 2019, The Author(s).The original version of this article contained a typographical error in the abstract. “Principal component analysis revealed that the Venus flytrap domain (VFD) of T1R2 monomer was adapted by the induced-fit mechanism to accommodate the focused polyols, in which α-helical residues 233–268 moved significantly closer to stabilize ligands.” now reads: “Principal component analysis revealed that the Venus flytrap domain (VFD) of T1R2 monomer was adapted by the induced-fit mechanism to accommodate the focused polyols, in which residues 233–268 moved significantly closer to stabilize ligands.” Additionally, the original version of this article contained a typographical error in the Results section under the subheading ‘Essential dynamics of the T1R2-T1R3 STR upon polyols complexation’. “Moreover, binding of these polyols stimulated the direction of motion of α-helical residues 233–268 (purple dashed circle), located near to the binding pocket, to become significantly closer to xylitol and sorbitol, resulting in a compact molecular shape.” now reads: “Moreover, binding of these polyols stimulated the direction of motion of residues 233–268 (purple dashed circle), located near to the binding pocket, to become significantly closer to xylitol and sorbitol, resulting in a compact molecular shape.” The original version of this article also contained a typographical error in the second paragraph of the discussion section. “Furthermore, binding of the two polyols converted the direction of motion of not only amino acids within a spherical radius of 5 Å but also residues 233–268, which is an α-helix element located near to the binding pocket, to become significantly closer to the ligands.” now reads:“Furthermore, binding of the two polyols converted the direction of motion of not only amino acids within a spherical radius of 5 Å but also residues 233–268, which are near to the binding pocket, to become significantly closer to the ligands.” Furthermore, in Figure 5B the key was incorrect. “Model 2_MM/PBSA” now reads “Model 2_MM/GBSA”. These errors have now been corrected in the HTML and PDF versions of the article. Lastly, in Figure 6A, the labelling for the residue N143 was missing.\n",
      "Publication Date: 2019-12-01\n",
      "Keywords: \n",
      "Title: Discovery of Novel EGFR Inhibitor Targeting Wild-Type and Mutant Forms of EGFR: In Silico and In Vitro Study\n",
      "Abstract: © 2023 by the authors.Targeting L858R/T790M and L858R/T790M/C797S mutant EGFR is a critical challenge in developing EGFR tyrosine kinase inhibitors to overcome drug resistance in non-small cell lung cancer (NSCLC). The discovery of next-generation EGFR tyrosine kinase inhibitors (TKIs) is therefore necessary. To this end, a series of furopyridine derivatives were evaluated for their EGFR-based inhibition and antiproliferative activities using computational and biological approaches. We found that several compounds derived from virtual screening based on a molecular docking and solvated interaction energy (SIE) method showed the potential to suppress wild-type and mutant EGFR. The most promising PD13 displayed strong inhibitory activity against wild-type (IC50 of 11.64 ± 1.30 nM), L858R/T790M (IC50 of 10.51 ± 0.71 nM), which are more significant than known drugs. In addition, PD13 revealed a potent cytotoxic effect on A549 and H1975 cell lines with IC50 values of 18.09 ± 1.57 and 33.87 ± 0.86 µM, respectively. The 500-ns MD simulations indicated that PD13 formed a hydrogen bond with Met793 at the hinge region, thus creating excellent EGFR inhibitory activity. Moreover, the binding of PD13 in the hinge region of EGFR was the major determining factor in stabilizing the interactions via hydrogen bonds and van der Waals (vdW). Altogether, PD13 is a promising novel EGFR inhibitor that could be further clinically developed as fourth-generation EGFR-TKIs.\n",
      "Publication Date: 2023-04-01\n",
      "Keywords: cytotoxicity,molecular dynamics,drug screening,EGFR-TK,furopyridine\n",
      "Title: Structure–activity relationships and molecular docking analysis of Mcl-1 targeting renieramycin T analogues in patient-derived lung cancer cells\n",
      "Abstract: © 2020 by the authors. Licensee MDPI, Basel, Switzerland.Myeloid cell leukemia 1 (Mcl-1) and B-cell lymphoma 2 (Bcl-2) proteins are promising targets for cancer therapy. Here, we investigated the structure–activity relationships (SARs) and performed molecular docking analysis of renieramycin T (RT) and its analogues and identified the critical functional groups of Mcl-1 targeting. RT have a potent anti-cancer activity against several lung cancer cells and drug-resistant primary cancer cells. RT mediated apoptosis through Mcl-1 suppression and it also reduced the level of Bcl-2 in primary cells. For SAR study, five analogues of RT were synthesized and tested for their anti-cancer and Mcl-1-and Bcl-2-targeting effects. Only two of them (TM-(–)-18 and TM-(–)-4a) exerted anti-cancer activities with the loss of Mcl-1 and partly reduced Bcl-2, while the other analogues had no such effects. Specific cyanide and benzene ring parts of RT’s structure were identified to be critical for its Mcl-1-targeting activity. Computational molecular docking indicated that RT, TM-(–)-18, and TM-(–)-4a bound to Mcl-1 with high affinity, whereas TM-(–)-45, a compound with a benzene ring but no cyanide for comparison, showed the lowest binding affinity. As Mcl-1 helps cancer cells evading apoptosis, these data encourage further development of RT compounds as well as the design of novel drugs for treating Mcl-1-driven cancers.\n",
      "Publication Date: 2020-04-01\n",
      "Keywords: Lung cancer,Apoptosis,Structure,Activity Relationship,Mcl-1,Molecular Docking Analysis,Patient-derived primary lung cancer cells,Renieramycin T\n"
     ]
    }
   ],
   "source": [
    "data_dict = extract_data(similar)\n",
    "\n",
    "for data in data_dict:\n",
    "    title = data['Title']\n",
    "    keywords = query_article_keywords(title)\n",
    "    keywords = [dict(node)['text'] for node in keywords]\n",
    "    data['keywords'] = ','.join(keywords)\n",
    "\n",
    "context = '\\n'.join([\n",
    "    f\"Title: {doc['Title']}\\n\"\n",
    "    f\"Abstract: {doc['Abstract']}\\n\"\n",
    "    f\"Publication Date: {doc['Publication Date']}\\n\"\n",
    "    f\"Keywords: {doc['keywords']}\"\n",
    "    for doc in data_dict\n",
    "])\n",
    "\n",
    "print(context)\n"
   ]
  },
  {
   "cell_type": "code",
   "execution_count": 9,
   "metadata": {},
   "outputs": [
    {
     "name": "stdout",
     "output_type": "stream",
     "text": [
      "1. Title: Identifying molecular targets of Aspiletrein-derived steroidal saponins in lung cancer using network pharmacology and molecular docking-based assessments\n",
      "   Abstract: This study uses molecular docking to investigate the interaction between key identified targets (STAT3, VEGFA, HSP90AA1, FGF2, and IL2) and Aspiletreins in non-small cell lung cancer. Publication Date: 2023-12-01\n",
      "\n",
      "2. Title: Discovery of Novel EGFR Inhibitor Targeting Wild-Type and Mutant Forms of EGFR: In Silico and In Vitro Study\n",
      "   Abstract: The study uses molecular docking to evaluate the potential of several compounds to suppress wild-type and mutant EGFR, and to understand the interactions of the most promising compound, PD13, with EGFR at the molecular level.Publication Date: 2023-04-01\n",
      "\n",
      "3. Title: Structure–activity relationships and molecular docking analysis of Mcl-1 targeting renieramycin T analogues in patient-derived lung cancer cells\n",
      "   Abstract: This study performs molecular docking to investigate the binding of renieramycin T and its analogues to Mcl-1, a promising target for cancer therapy. Publication Date: 2020-04-01\n",
      "\n",
      "4. Title: Quinoxalinones as A Novel Inhibitor Scaffold for EGFR (L858R/T790M/C797S) Tyrosine Kinase: Molecular Docking, Biological Evaluations, and Computational Insights\n",
      "   Abstract: Molecular docking is used in this study to screen quinoxalinone-containing compounds for their potential as EGFR (L858R/T790M/C797S) TK inhibitors, and to understand their interactions with M793 at the hinge regions and two mutated residues including M790 and S797. Publication Date: 2022-12-01\n"
     ]
    }
   ],
   "source": [
    "response = query_from_mistral(context.strip(), query)\n",
    "print(response)"
   ]
  }
 ],
 "metadata": {
  "kernelspec": {
   "display_name": "chatbot",
   "language": "python",
   "name": "python3"
  },
  "language_info": {
   "codemirror_mode": {
    "name": "ipython",
    "version": 3
   },
   "file_extension": ".py",
   "mimetype": "text/x-python",
   "name": "python",
   "nbconvert_exporter": "python",
   "pygments_lexer": "ipython3",
   "version": "3.10.15"
  }
 },
 "nbformat": 4,
 "nbformat_minor": 2
}
